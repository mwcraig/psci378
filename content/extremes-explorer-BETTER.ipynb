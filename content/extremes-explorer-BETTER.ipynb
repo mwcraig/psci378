{
 "cells": [
  {
   "cell_type": "code",
   "execution_count": 1,
   "id": "37fd8c1a-4776-495c-ab60-67ffd2bb65e8",
   "metadata": {
    "tags": []
   },
   "outputs": [],
   "source": [
    "import numpy as np\n",
    "import pandas as pd\n",
    "from pyextremes import EVA\n",
    "from astropy.table import Table\n",
    "from astropy import units\n",
    "from astropy.units import imperial\n",
    "from astropy.visualization import quantity_support\n",
    "\n",
    "import ipywidgets as ipw\n",
    "\n",
    "from climate_explore import ClimateData, TempData\n",
    "import pyextremes\n",
    "\n",
    "from scipy.stats import genextreme\n",
    "\n",
    "quantity_support()\n",
    "\n",
    "%matplotlib widget\n",
    "\n",
    "from matplotlib import pyplot as plt\n",
    "plt.rcParams['text.usetex'] = True"
   ]
  },
  {
   "cell_type": "code",
   "execution_count": null,
   "id": "4d20b16b-3de4-4083-b3bb-1f33ce700333",
   "metadata": {},
   "outputs": [],
   "source": []
  },
  {
   "cell_type": "code",
   "execution_count": 2,
   "id": "e5f3d8e6-5273-45cd-ad65-edd2cfd438f1",
   "metadata": {
    "tags": []
   },
   "outputs": [],
   "source": [
    "all_data = Table.read(\"psci378-extremes.csv\")"
   ]
  },
  {
   "cell_type": "code",
   "execution_count": 3,
   "id": "fc92e9fb-ea0e-4d49-ad25-713a44c12943",
   "metadata": {
    "tags": []
   },
   "outputs": [],
   "source": [
    "c = ClimateData(all_data)"
   ]
  },
  {
   "cell_type": "code",
   "execution_count": 4,
   "id": "4bea7191-147e-42b2-b148-1808960c4998",
   "metadata": {
    "tags": []
   },
   "outputs": [],
   "source": [
    "pad_me = ipw.Layout(padding=\"5px\")\n",
    "locations = ipw.Dropdown(options=c.locations, default=None)\n",
    "extreme_types_drop = ipw.ToggleButtons(\n",
    "    options=[\n",
    "        (\"High\", \"TMAX\"), \n",
    "        (\"Low\", \"TMIN\"), \n",
    "        #(\"Max precipitation\", \"PRCP\")\n",
    "    ]\n",
    ")\n",
    "extreme_types_label = ipw.Label(\"Extreme type\")\n",
    "extreme_types = ipw.VBox(children=[extreme_types_label, extreme_types_drop])\n",
    "unit_selector = ipw.ToggleButtons(description=\"Units\", options=[(\"metric\", units.Celsius), (\"english\", units.imperial.Fahrenheit)], layout=pad_me) # ipw.Dropdown(options=[\"metric\", \"english\"])\n",
    "\n",
    "center = ipw.VBox()\n",
    "left = ipw.VBox()\n",
    "left.children = [extreme_types, unit_selector]\n",
    "\n",
    "#plot_selector = ipw.Tab()\n",
    "\n",
    "app = ipw.AppLayout(center=center, left_sidebar=left, header=locations, pane_heights=[1,10,0])\n",
    "\n",
    "#locations.observe(update_location, "
   ]
  },
  {
   "cell_type": "code",
   "execution_count": 5,
   "id": "c7dcdc7b-4768-4faf-b65f-fe38f1c50cac",
   "metadata": {
    "tags": []
   },
   "outputs": [],
   "source": [
    "def get_extreme_type_name():\n",
    "    return extreme_types_drop.options[extreme_types_drop.index][0]"
   ]
  },
  {
   "cell_type": "code",
   "execution_count": 6,
   "id": "13129e47-de88-4e10-ac03-51f5496d2123",
   "metadata": {
    "tags": []
   },
   "outputs": [],
   "source": [
    "with plt.ioff():\n",
    "    fig, ax = plt.subplots()\n",
    "    lines = ax.plot([1800, 2025], [50, 50])\n",
    "    xmin, xmax = ax.get_xlim()\n",
    "    ymin, ymax = ax.get_ylim()\n",
    "    low_year = ax.plot([xmin, xmin], [ymin, ymax], \"-\", alpha=0.7, color=\"green\")\n",
    "    high_year = ax.plot([xmax, xmax], [ymin, ymax], \"-\", alpha=0.7, color=\"green\")\n",
    "    trend = ax.plot([1800, 2025], [50, 50], alpha=0, color=\"orange\")\n",
    "    trend = trend[0]\n",
    "    ax.set_xlabel(\"Year\")\n",
    "    ax.set_ylabel(f\"AVERAGE {get_extreme_type_name()} Temperature\")\n",
    "    ax.grid()\n",
    "\n"
   ]
  },
  {
   "cell_type": "code",
   "execution_count": 7,
   "id": "f3002cef-c4f0-4cea-b04d-ffbe1bf57af7",
   "metadata": {
    "tags": []
   },
   "outputs": [],
   "source": [
    "year_range = ipw.IntRangeSlider(min=c.years.min(), max=c.years.max(), step=1, description=\"Select years\", layout=dict(width=\"90%\"))\n",
    "fig.canvas.layout = ipw.Layout(width=\"90%\")\n",
    "year_range.value = (year_range.min, year_range.max)\n",
    "tabs = ipw.Tab()\n",
    "\n",
    "range_and_average = ipw.VBox()\n",
    "\n",
    "range_and_average.children = [year_range, fig.canvas]\n",
    "tabs.children = [range_and_average]\n",
    "tabs.titles = (\"1) Select years\",)\n",
    "center.children = [tabs]"
   ]
  },
  {
   "cell_type": "code",
   "execution_count": 8,
   "id": "8f1f8e9f-9a82-405b-8562-6a9754adba57",
   "metadata": {
    "tags": []
   },
   "outputs": [],
   "source": [
    "selected_location_data = \"\""
   ]
  },
  {
   "cell_type": "code",
   "execution_count": 9,
   "id": "16d073fe-d128-46d3-b656-3c875ff9dbef",
   "metadata": {
    "tags": []
   },
   "outputs": [],
   "source": [
    "def update_trend_line():\n",
    "    bobber = selected_location_data\n",
    "    trend_fit = bobber.fit_trend(group_by=\"YEAR\")\n",
    "    trend.set_data(bobber.data['YEAR'], trend_fit(bobber.data['YEAR']))\n",
    "    return bobber"
   ]
  },
  {
   "cell_type": "code",
   "execution_count": 10,
   "id": "8a090409-4de7-482b-8483-3da980ada11b",
   "metadata": {
    "tags": []
   },
   "outputs": [],
   "source": [
    "def make_subtitle():\n",
    "    return \"\""
   ]
  },
  {
   "cell_type": "code",
   "execution_count": 11,
   "id": "575a80b2-890c-446b-84ac-edfc00e432c7",
   "metadata": {
    "tags": []
   },
   "outputs": [],
   "source": [
    "def update_graph_line(dummy=None):\n",
    "    selected_location_data.start_year, selected_location_data.end_year = year_range.value\n",
    "    selected_location_data.extreme_type = get_extreme_type_name().lower()\n",
    "    selected_location_data.display_unit = unit_selector.value\n",
    "    years, temps = selected_location_data.max_min_temps_by_year(group_by='YEAR')\n",
    "    lines[0].set_data(years, temps)\n",
    "    ax.set_ylim((np.nanmin(temps) - 10 * temps.unit), (np.nanmax(temps) + 10 * temps.unit))\n",
    "    ax.set_xlim(years.min() - 5, years.max() + 5)\n",
    "    ax.set_ylabel(f\"AVERAGE {get_extreme_type_name()} Temperature ({unit_selector.value:latex})\")\n",
    "    subset = update_trend_line()\n",
    "    rate_change = subset.fit_trend(group_by=\"YEAR\").coef[1] * subset.display_unit * 100\n",
    "    rate_change_string = rate_change.to_string(format=\"latex\", precision=3)\n",
    "    ax.set_title(f\"{c.location} \\nchange in 100 years {rate_change_string}\")\n",
    "    update_year_markers({})"
   ]
  },
  {
   "cell_type": "code",
   "execution_count": 12,
   "id": "cf9b18af-cdf0-432a-acf2-64b12b7209fd",
   "metadata": {
    "tags": []
   },
   "outputs": [],
   "source": [
    "def update_location(change):\n",
    "    global selected_location_data\n",
    "    c.set_location(locations.value)\n",
    "    selected_location_data = TempData(data=c.selected_data, \n",
    "                                      display_unit=unit_selector.value,\n",
    "                                      extreme_type=get_extreme_type_name().lower()\n",
    "                                     )\n",
    "    \n",
    "    ax.set_title(f\"{c.location}\")\n",
    "    update_graph_line()\n",
    "    year_range.min, year_range.max = selected_location_data.year_range\n",
    "\n",
    "    year_range.value = (year_range.min, year_range.max)\n",
    "    trend.set_alpha(1)\n",
    "    fig.canvas.draw()\n",
    "    fig.canvas.flush_events()"
   ]
  },
  {
   "cell_type": "code",
   "execution_count": 13,
   "id": "307fb570-884e-4ded-9663-65ec0444b8f1",
   "metadata": {
    "tags": []
   },
   "outputs": [],
   "source": [
    "def update_year_markers(change):\n",
    "    xmin, xmax = year_range.value\n",
    "    ymin, ymax = ax.get_ylim()\n",
    "    high_year[0].set_data([xmax, xmax], [ymin, ymax])\n",
    "    low_year[0].set_data([xmin, xmin], [ymin, ymax])\n",
    "    selected_location_data.start_year, selected_location_data.end_year = year_range.value\n",
    "    subset = update_trend_line()\n",
    "    rate_change = subset.fit_trend(group_by=\"YEAR\").coef[1] * subset.display_unit * 100\n",
    "    ax.set_title(f\"{c.location} \\nchange in 100Y {rate_change:.3f}\")\n",
    "    fig.canvas.draw()\n",
    "    fig.canvas.flush_events()\n"
   ]
  },
  {
   "cell_type": "code",
   "execution_count": 14,
   "id": "528e7dc2-c841-417e-8be8-44887854255b",
   "metadata": {
    "tags": []
   },
   "outputs": [],
   "source": [
    "def update_temp_unit(change):\n",
    "    update_graph_line()"
   ]
  },
  {
   "cell_type": "code",
   "execution_count": 15,
   "id": "061c2c0b-99f5-4e35-89f3-c4740a6ef398",
   "metadata": {
    "tags": []
   },
   "outputs": [],
   "source": [
    "locations.observe(update_location, names=\"value\")"
   ]
  },
  {
   "cell_type": "code",
   "execution_count": 16,
   "id": "a412b6b8-b34c-47dd-bc95-837fdc340f5b",
   "metadata": {
    "tags": []
   },
   "outputs": [],
   "source": [
    "year_range.observe(update_year_markers, names=\"value\")\n",
    "unit_selector.observe(update_temp_unit, names=\"value\")\n",
    "extreme_types_drop.observe(update_graph_line, names=\"value\")"
   ]
  },
  {
   "cell_type": "code",
   "execution_count": 17,
   "id": "dbad96dd-fff3-4335-94ab-ce0dc10b497e",
   "metadata": {
    "tags": []
   },
   "outputs": [],
   "source": [
    "locations.value = \"FARGO HECTOR INTERNATIONAL AIRPORT, ND US\""
   ]
  },
  {
   "cell_type": "code",
   "execution_count": 18,
   "id": "580c0787-530a-4021-bf80-9062478b57cb",
   "metadata": {
    "tags": []
   },
   "outputs": [
    {
     "data": {
      "application/vnd.jupyter.widget-view+json": {
       "model_id": "96458298664440c6ba27409a94320380",
       "version_major": 2,
       "version_minor": 0
      },
      "text/plain": [
       "AppLayout(children=(Dropdown(index=2, layout=Layout(grid_area='header'), options=('DICKINSON, ND US', 'FAIRBAN…"
      ]
     },
     "execution_count": 18,
     "metadata": {},
     "output_type": "execute_result"
    }
   ],
   "source": [
    "app"
   ]
  },
  {
   "cell_type": "code",
   "execution_count": 19,
   "id": "526f9979-7764-41ea-ab48-16b1d08ef6f4",
   "metadata": {
    "tags": []
   },
   "outputs": [
    {
     "data": {
      "text/plain": [
       "(Polynomial([-25.18261568,   0.03885373], domain=[-1,  1], window=[-1,  1], symbol='x'),\n",
       " Polynomial([2.39787614e+01, 1.39551269e-02], domain=[-1,  1], window=[-1,  1], symbol='x'))"
      ]
     },
     "execution_count": 19,
     "metadata": {},
     "output_type": "execute_result"
    }
   ],
   "source": [
    "bobber = TempData(data=c.selected_data, display_unit=imperial.deg_F)\n",
    "voo = bobber.fit_trend()\n",
    "poo = bobber.fit_trend(group_by=\"YEAR\")\n",
    "voo, poo"
   ]
  },
  {
   "cell_type": "code",
   "execution_count": null,
   "id": "783e0d73-20ce-4335-bf1a-9173db0157c8",
   "metadata": {
    "tags": []
   },
   "outputs": [],
   "source": [
    "stuff = selected_location_data.to_pandas_series()\n",
    "model = pyextremes.EVA(stuff)\n",
    "model.get_extremes(method=\"BM\", errors=\"coerce\", extremes_type=selected_location_data.extreme_type)"
   ]
  },
  {
   "cell_type": "code",
   "execution_count": null,
   "id": "6e27953b-d8ab-47ad-a503-5c3a312527e1",
   "metadata": {
    "tags": []
   },
   "outputs": [],
   "source": [
    "model.plot_extremes()"
   ]
  },
  {
   "cell_type": "code",
   "execution_count": null,
   "id": "d479716a-292d-431e-96cb-34d6a330e2dd",
   "metadata": {
    "tags": []
   },
   "outputs": [],
   "source": [
    "model.fit_model(distribution=\"genextreme\") #, distribution_kwargs={\"fc\": 0.3330411, \"floc\":99})"
   ]
  },
  {
   "cell_type": "code",
   "execution_count": null,
   "id": "b1787d92-9786-4c82-bbd2-7f307ff57ab9",
   "metadata": {
    "tags": []
   },
   "outputs": [],
   "source": [
    "ge = genextreme(*genextreme.fit(model.extremes))"
   ]
  },
  {
   "cell_type": "code",
   "execution_count": null,
   "id": "45c6f21b-9f9a-49a1-b4a1-a8cdb28f133a",
   "metadata": {
    "tags": []
   },
   "outputs": [],
   "source": [
    "plt.figure()\n",
    "pe_ax = model.extremes.hist(density=True)\n",
    "xmin, xmax = pe_ax.get_xlim()\n",
    "x = np.linspace(xmin - 5, xmax + 5, num=200)\n",
    "mod = pe_ax.plot(x, model.model.pdf(x))[0]\n",
    "mod_color = mod.get_color()\n",
    "hot = model.extremes.max() - 5\n",
    "pe_ax.plot(x, ge.pdf(x))\n",
    "plt.fill_between(x, model.model.pdf(x), where=(x >= hot), color=mod_color, alpha=0.5)\n",
    "pe_ax.set_title(f\"{c.location}\")\n",
    "pe_ax.set_xlabel(f\"{selected_location_data.extreme_type.upper()} temperature, {selected_location_data.display_unit}\")\n",
    "# print(1 - model.model.cdf(hot))"
   ]
  },
  {
   "cell_type": "code",
   "execution_count": null,
   "id": "ccddd8d5-b5cb-4b53-ad66-2316fd7054f3",
   "metadata": {
    "tags": []
   },
   "outputs": [],
   "source": [
    "model"
   ]
  },
  {
   "cell_type": "code",
   "execution_count": null,
   "id": "02ab2119-a410-4a51-a79a-6fbe0d29ea12",
   "metadata": {
    "tags": []
   },
   "outputs": [],
   "source": [
    "model.plot_return_values(alpha=0.99)"
   ]
  },
  {
   "cell_type": "code",
   "execution_count": null,
   "id": "1b2a00b8-a722-47f8-a743-6ce9c13f82d0",
   "metadata": {
    "tags": []
   },
   "outputs": [],
   "source": [
    "model.model"
   ]
  },
  {
   "cell_type": "code",
   "execution_count": null,
   "id": "cce80f34-bb57-42d2-a292-d7d02df476a8",
   "metadata": {},
   "outputs": [],
   "source": []
  }
 ],
 "metadata": {
  "kernelspec": {
   "display_name": "Python 3 (ipykernel)",
   "language": "python",
   "name": "python3"
  },
  "language_info": {
   "codemirror_mode": {
    "name": "ipython",
    "version": 3
   },
   "file_extension": ".py",
   "mimetype": "text/x-python",
   "name": "python",
   "nbconvert_exporter": "python",
   "pygments_lexer": "ipython3",
   "version": "3.11.9"
  }
 },
 "nbformat": 4,
 "nbformat_minor": 5
}
